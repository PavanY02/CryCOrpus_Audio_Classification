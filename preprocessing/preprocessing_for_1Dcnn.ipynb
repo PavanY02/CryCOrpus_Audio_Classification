{
 "cells": [
  {
   "cell_type": "code",
   "execution_count": null,
   "metadata": {
    "colab": {
     "base_uri": "https://localhost:8080/"
    },
    "id": "CfReGjycmI8o",
    "outputId": "0a45c63a-dc2f-48e4-a028-4b8a86e8eac4"
   },
   "outputs": [
    {
     "data": {
      "text/plain": [
       "['belly_pain', 'tired', 'burping', 'hungry', 'discomfort']"
      ]
     },
     "execution_count": 1,
     "metadata": {},
     "output_type": "execute_result"
    }
   ],
   "source": [
    "import zipfile\n",
    "import os\n",
    "\n",
    "# Path to the uploaded zip file\n",
    "zip_file_path = '///content/cry_data.zip'\n",
    "extract_path = '//content/cry_data'\n",
    "\n",
    "# Extract the zip file\n",
    "with zipfile.ZipFile(zip_file_path, 'r') as zip_ref:\n",
    "    zip_ref.extractall(extract_path)\n",
    "\n",
    "# List the files that were extracted\n",
    "extracted_files = os.listdir(extract_path)\n",
    "extracted_files"
   ]
  },
  {
   "cell_type": "code",
   "execution_count": null,
   "metadata": {
    "colab": {
     "base_uri": "https://localhost:8080/"
    },
    "id": "253KNVZZmcPL",
    "outputId": "1c994617-4003-4ceb-a438-afa9258e9efe"
   },
   "outputs": [
    {
     "name": "stdout",
     "output_type": "stream",
     "text": [
      "Processing class: belly_pain\n",
      "Processing class: tired\n",
      "Processing class: burping\n",
      "Processing class: hungry\n",
      "Processing class: discomfort\n",
      "Data successfully split into train and test folders!\n"
     ]
    }
   ],
   "source": [
    "import os\n",
    "import shutil\n",
    "from sklearn.model_selection import train_test_split\n",
    "\n",
    "# Paths\n",
    "base_dir = \"/content/cry_data\"\n",
    "train_dir = \"/content/train\"\n",
    "test_dir = \"/content/test\"\n",
    "\n",
    "# Create train and test directories\n",
    "os.makedirs(train_dir, exist_ok=True)\n",
    "os.makedirs(test_dir, exist_ok=True)\n",
    "\n",
    "# Split ratio\n",
    "split_ratio = 0.8\n",
    "\n",
    "# Process each class folder in the base directory\n",
    "for class_name in os.listdir(base_dir):\n",
    "    class_path = os.path.join(base_dir, class_name)\n",
    "\n",
    "    # Ensure it's a directory\n",
    "    if os.path.isdir(class_path):\n",
    "        print(f\"Processing class: {class_name}\")\n",
    "\n",
    "        # Get all files in the current class folder\n",
    "        files = [f for f in os.listdir(class_path) if os.path.isfile(os.path.join(class_path, f))]\n",
    "\n",
    "        if not files:  # Skip if no files are found\n",
    "            print(f\"Skipping empty folder for class: {class_name}\")\n",
    "            continue\n",
    "\n",
    "        # Shuffle and split the files into train and test\n",
    "        train_files, test_files = train_test_split(files, train_size=split_ratio, random_state=42)\n",
    "\n",
    "        # Create class folders in train and test directories\n",
    "        train_class_dir = os.path.join(train_dir, class_name)\n",
    "        test_class_dir = os.path.join(test_dir, class_name)\n",
    "        os.makedirs(train_class_dir, exist_ok=True)\n",
    "        os.makedirs(test_class_dir, exist_ok=True)\n",
    "\n",
    "        # Copy files to the train directory\n",
    "        for file in train_files:\n",
    "            src_path = os.path.join(class_path, file)\n",
    "            dest_path = os.path.join(train_class_dir, file)\n",
    "            shutil.copy(src_path, dest_path)\n",
    "\n",
    "        # Copy files to the test directory\n",
    "        for file in test_files:\n",
    "            src_path = os.path.join(class_path, file)\n",
    "            dest_path = os.path.join(test_class_dir, file)\n",
    "            shutil.copy(src_path, dest_path)\n",
    "\n",
    "print(\"Data successfully split into train and test folders!\")\n"
   ]
  },
  {
   "cell_type": "code",
   "execution_count": null,
   "metadata": {
    "colab": {
     "base_uri": "https://localhost:8080/"
    },
    "id": "7VdXqEz3mrkw",
    "outputId": "f6af6029-a9fa-4b5a-a782-33104f7663cf"
   },
   "outputs": [
    {
     "name": "stdout",
     "output_type": "stream",
     "text": [
      "Requirement already satisfied: librosa in /usr/local/lib/python3.10/dist-packages (0.10.2.post1)\n",
      "Requirement already satisfied: audioread>=2.1.9 in /usr/local/lib/python3.10/dist-packages (from librosa) (3.0.1)\n",
      "Requirement already satisfied: numpy!=1.22.0,!=1.22.1,!=1.22.2,>=1.20.3 in /usr/local/lib/python3.10/dist-packages (from librosa) (1.26.4)\n",
      "Requirement already satisfied: scipy>=1.2.0 in /usr/local/lib/python3.10/dist-packages (from librosa) (1.13.1)\n",
      "Requirement already satisfied: scikit-learn>=0.20.0 in /usr/local/lib/python3.10/dist-packages (from librosa) (1.5.2)\n",
      "Requirement already satisfied: joblib>=0.14 in /usr/local/lib/python3.10/dist-packages (from librosa) (1.4.2)\n",
      "Requirement already satisfied: decorator>=4.3.0 in /usr/local/lib/python3.10/dist-packages (from librosa) (5.1.1)\n",
      "Requirement already satisfied: numba>=0.51.0 in /usr/local/lib/python3.10/dist-packages (from librosa) (0.60.0)\n",
      "Requirement already satisfied: soundfile>=0.12.1 in /usr/local/lib/python3.10/dist-packages (from librosa) (0.12.1)\n",
      "Requirement already satisfied: pooch>=1.1 in /usr/local/lib/python3.10/dist-packages (from librosa) (1.8.2)\n",
      "Requirement already satisfied: soxr>=0.3.2 in /usr/local/lib/python3.10/dist-packages (from librosa) (0.5.0.post1)\n",
      "Requirement already satisfied: typing-extensions>=4.1.1 in /usr/local/lib/python3.10/dist-packages (from librosa) (4.12.2)\n",
      "Requirement already satisfied: lazy-loader>=0.1 in /usr/local/lib/python3.10/dist-packages (from librosa) (0.4)\n",
      "Requirement already satisfied: msgpack>=1.0 in /usr/local/lib/python3.10/dist-packages (from librosa) (1.1.0)\n",
      "Requirement already satisfied: packaging in /usr/local/lib/python3.10/dist-packages (from lazy-loader>=0.1->librosa) (24.2)\n",
      "Requirement already satisfied: llvmlite<0.44,>=0.43.0dev0 in /usr/local/lib/python3.10/dist-packages (from numba>=0.51.0->librosa) (0.43.0)\n",
      "Requirement already satisfied: platformdirs>=2.5.0 in /usr/local/lib/python3.10/dist-packages (from pooch>=1.1->librosa) (4.3.6)\n",
      "Requirement already satisfied: requests>=2.19.0 in /usr/local/lib/python3.10/dist-packages (from pooch>=1.1->librosa) (2.32.3)\n",
      "Requirement already satisfied: threadpoolctl>=3.1.0 in /usr/local/lib/python3.10/dist-packages (from scikit-learn>=0.20.0->librosa) (3.5.0)\n",
      "Requirement already satisfied: cffi>=1.0 in /usr/local/lib/python3.10/dist-packages (from soundfile>=0.12.1->librosa) (1.17.1)\n",
      "Requirement already satisfied: pycparser in /usr/local/lib/python3.10/dist-packages (from cffi>=1.0->soundfile>=0.12.1->librosa) (2.22)\n",
      "Requirement already satisfied: charset-normalizer<4,>=2 in /usr/local/lib/python3.10/dist-packages (from requests>=2.19.0->pooch>=1.1->librosa) (3.4.0)\n",
      "Requirement already satisfied: idna<4,>=2.5 in /usr/local/lib/python3.10/dist-packages (from requests>=2.19.0->pooch>=1.1->librosa) (3.10)\n",
      "Requirement already satisfied: urllib3<3,>=1.21.1 in /usr/local/lib/python3.10/dist-packages (from requests>=2.19.0->pooch>=1.1->librosa) (2.2.3)\n",
      "Requirement already satisfied: certifi>=2017.4.17 in /usr/local/lib/python3.10/dist-packages (from requests>=2.19.0->pooch>=1.1->librosa) (2024.8.30)\n"
     ]
    }
   ],
   "source": [
    "#!pip install librosa\n",
    "import os\n",
    "import librosa\n",
    "import numpy as np\n",
    "import pandas as pd\n"
   ]
  },
  {
   "cell_type": "code",
   "execution_count": null,
   "metadata": {
    "id": "WjsmkKfAnakE"
   },
   "outputs": [],
   "source": [
    "train_path = '/content/train'  # Path to the train folder\n",
    "mfcc_data = []  # List to store data for CSV\n"
   ]
  },
  {
   "cell_type": "code",
   "execution_count": null,
   "metadata": {
    "id": "WEMpb6vOndcY"
   },
   "outputs": [],
   "source": [
    "def extract_mfcc(file_path, n_mfcc=18):\n",
    "    y, sr = librosa.load(file_path, sr=None)\n",
    "    mfccs = librosa.feature.mfcc(y=y, sr=sr, n_mfcc=n_mfcc)\n",
    "    mfccs = np.mean(mfccs.T, axis=0)  # Take the mean across time frames\n",
    "    return mfccs\n"
   ]
  },
  {
   "cell_type": "code",
   "execution_count": null,
   "metadata": {
    "colab": {
     "base_uri": "https://localhost:8080/"
    },
    "id": "4UmcSGtFnfjD",
    "outputId": "2643b6a9-b4ca-46bc-f928-fb1e966d4a7a"
   },
   "outputs": [
    {
     "name": "stdout",
     "output_type": "stream",
     "text": [
      "/content/train/belly_pain\n",
      "/content/train/tired\n",
      "/content/train/burping\n",
      "/content/train/hungry\n",
      "/content/train/discomfort\n"
     ]
    }
   ],
   "source": [
    "for class_folder in os.listdir(train_path):\n",
    "    class_path = os.path.join(train_path, class_folder)\n",
    "    print(class_path)\n",
    "    if os.path.isdir(class_path):\n",
    "        for file_name in os.listdir(class_path):\n",
    "            file_path = os.path.join(class_path, file_name)\n",
    "\n",
    "            if file_name.endswith('.wav'):\n",
    "                mfcc_features = extract_mfcc(file_path)\n",
    "                mfcc_data.append([*mfcc_features, class_folder])  # Append features with label\n"
   ]
  },
  {
   "cell_type": "code",
   "execution_count": null,
   "metadata": {
    "id": "2tLDH80knhGK"
   },
   "outputs": [],
   "source": [
    "# Create a DataFrame with MFCC features as columns and 'label' as the target column\n",
    "num_mfcc = len(mfcc_data[0]) - 1\n",
    "column_names = [f'mfcc_{i}' for i in range(num_mfcc)] + ['label']\n",
    "df = pd.DataFrame(mfcc_data, columns=column_names)\n",
    "\n",
    "# Save DataFrame to CSV\n",
    "df.to_csv('train_mfcc_features.csv', index=False)\n"
   ]
  },
  {
   "cell_type": "code",
   "execution_count": null,
   "metadata": {
    "id": "EhcdHm5Hpxel"
   },
   "outputs": [],
   "source": [
    "test_path = '/content/test'  # Path to the train folder\n",
    "mfcc_data = []  # List to store data for CSV\n"
   ]
  },
  {
   "cell_type": "code",
   "execution_count": null,
   "metadata": {
    "id": "nrfjGOkXpxqd"
   },
   "outputs": [],
   "source": [
    "def extract_mfcc(file_path, n_mfcc=18):\n",
    "    y, sr = librosa.load(file_path, sr=None)\n",
    "    mfccs = librosa.feature.mfcc(y=y, sr=sr, n_mfcc=n_mfcc)\n",
    "    mfccs = np.mean(mfccs.T, axis=0)  # Take the mean across time frames\n",
    "    return mfccs\n"
   ]
  },
  {
   "cell_type": "code",
   "execution_count": null,
   "metadata": {
    "colab": {
     "base_uri": "https://localhost:8080/"
    },
    "id": "laZiac9ynibi",
    "outputId": "8bce54c5-0954-4506-89b9-a4718c4e88d4"
   },
   "outputs": [
    {
     "name": "stdout",
     "output_type": "stream",
     "text": [
      "/content/test/belly_pain\n",
      "/content/test/tired\n",
      "/content/test/burping\n",
      "/content/test/hungry\n",
      "/content/test/discomfort\n"
     ]
    }
   ],
   "source": [
    "for class_folder in os.listdir(test_path):\n",
    "    class_path = os.path.join(test_path, class_folder)\n",
    "    print(class_path)\n",
    "    if os.path.isdir(class_path):\n",
    "        for file_name in os.listdir(class_path):\n",
    "            file_path = os.path.join(class_path, file_name)\n",
    "\n",
    "            if file_name.endswith('.wav'):\n",
    "                mfcc_features = extract_mfcc(file_path)\n",
    "                mfcc_data.append([*mfcc_features, class_folder])  # Append features with label\n"
   ]
  },
  {
   "cell_type": "code",
   "execution_count": null,
   "metadata": {
    "id": "yyT8rcdLqDOe"
   },
   "outputs": [],
   "source": [
    "# Create a DataFrame with MFCC features as columns and 'label' as the target column\n",
    "num_mfcc = len(mfcc_data[0]) - 1\n",
    "column_names = [f'mfcc_{i}' for i in range(num_mfcc)] + ['label']\n",
    "df = pd.DataFrame(mfcc_data, columns=column_names)\n",
    "\n",
    "# Save DataFrame to CSV\n",
    "df.to_csv('test_mfcc_features.csv', index=False)\n"
   ]
  },
  {
   "cell_type": "code",
   "execution_count": null,
   "metadata": {
    "id": "hEc6svDOqI4Z"
   },
   "outputs": [],
   "source": []
  }
 ],
 "metadata": {
  "accelerator": "TPU",
  "colab": {
   "gpuType": "V28",
   "provenance": []
  },
  "kernelspec": {
   "display_name": "Python 3",
   "name": "python3"
  },
  "language_info": {
   "name": "python"
  }
 },
 "nbformat": 4,
 "nbformat_minor": 0
}
