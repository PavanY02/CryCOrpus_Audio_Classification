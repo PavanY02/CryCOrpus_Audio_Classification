{
  "nbformat": 4,
  "nbformat_minor": 0,
  "metadata": {
    "colab": {
      "provenance": [],
      "gpuType": "V28"
    },
    "kernelspec": {
      "name": "python3",
      "display_name": "Python 3"
    },
    "language_info": {
      "name": "python"
    },
    "accelerator": "TPU"
  },
  "cells": [
    {
      "cell_type": "code",
      "source": [
        "import numpy as np\n",
        "import pandas as pd\n",
        "from sklearn.model_selection import train_test_split\n",
        "from sklearn.preprocessing import LabelEncoder\n",
        "from tensorflow.keras.utils import to_categorical\n",
        "from tensorflow.keras.models import Sequential\n",
        "from tensorflow.keras.layers import Conv1D, MaxPooling1D, Flatten, Dense"
      ],
      "metadata": {
        "id": "luOg8M4rI5xf"
      },
      "execution_count": 16,
      "outputs": []
    },
    {
      "cell_type": "code",
      "source": [
        "# Load train and test datasets\n",
        "train_data = pd.read_csv('/content/train_mfcc_features (1).csv')  # Update with actual path\n",
        "test_data = pd.read_csv('/content/test_mfcc_features (1).csv')    # Update with actual path\n"
      ],
      "metadata": {
        "id": "Am1CHkI-I7jl"
      },
      "execution_count": 44,
      "outputs": []
    },
    {
      "cell_type": "code",
      "source": [
        "# Separate features and labels for train data\n",
        "X_train = train_data.iloc[:, :-1].values  # All columns except 'label'\n",
        "y_train = train_data['label'].values      # 'label' column\n",
        "\n",
        "# Separate features and labels for test data\n",
        "X_test = test_data.iloc[:, :-1].values  # All columns except 'label'\n",
        "y_test = test_data['label'].values      # 'label' column\n"
      ],
      "metadata": {
        "id": "VwG_ZAjSJopX"
      },
      "execution_count": 45,
      "outputs": []
    },
    {
      "cell_type": "code",
      "source": [
        "from sklearn.utils import class_weight\n",
        "import numpy as np\n",
        "\n",
        "# Calculate class weights\n",
        "class_weights = class_weight.compute_class_weight(\n",
        "    'balanced',\n",
        "    classes=np.unique(y_train),\n",
        "    y=y_train\n",
        ")\n",
        "class_weights = dict(enumerate(class_weights))\n",
        "print(class_weights)\n"
      ],
      "metadata": {
        "colab": {
          "base_uri": "https://localhost:8080/"
        },
        "id": "LVA6TvJlMcgA",
        "outputId": "6b588237-2990-4194-ff13-710cd6028290"
      },
      "execution_count": 46,
      "outputs": [
        {
          "output_type": "stream",
          "name": "stdout",
          "text": [
            "{0: 1.746031746031746, 1: 2.5, 2: 1.5277777777777777, 3: 0.36065573770491804, 4: 1.6666666666666667}\n"
          ]
        }
      ]
    },
    {
      "cell_type": "code",
      "source": [
        "# Calculate shift mean using NumPy\n",
        "shift_mean_train = np.mean(np.diff(X_train, axis=1), axis=1).reshape(-1, 1)\n",
        "shift_mean_test = np.mean(np.diff(X_test, axis=1), axis=1).reshape(-1, 1)\n",
        "\n",
        "# Calculate RMS mean using NumPy\n",
        "rms_mean_train = np.sqrt(np.mean(X_train ** 2, axis=1)).reshape(-1, 1)\n",
        "rms_mean_test = np.sqrt(np.mean(X_test ** 2, axis=1)).reshape(-1, 1)\n",
        "\n",
        "# Append shift mean and RMS mean as new features to X_train and X_test\n",
        "X_train = np.hstack((X_train, shift_mean_train, rms_mean_train))\n",
        "X_test = np.hstack((X_test, shift_mean_test, rms_mean_test))\n"
      ],
      "metadata": {
        "id": "Xr5vxM9ZJFbt"
      },
      "execution_count": 47,
      "outputs": []
    },
    {
      "cell_type": "code",
      "source": [
        "# Encode labels as integers for categorical cross-entropy\n",
        "label_encoder = LabelEncoder()\n",
        "y_train = label_encoder.fit_transform(y_train)\n",
        "y_test = label_encoder.transform(y_test)"
      ],
      "metadata": {
        "id": "EYwYsJA3KaZB"
      },
      "execution_count": 48,
      "outputs": []
    },
    {
      "cell_type": "code",
      "source": [
        "# Convert labels to categorical format for neural network output\n",
        "y_train = to_categorical(y_train)\n",
        "y_test = to_categorical(y_test)"
      ],
      "metadata": {
        "id": "M0cZcCJHKrMX"
      },
      "execution_count": 49,
      "outputs": []
    },
    {
      "cell_type": "code",
      "source": [
        "# Reshape X data to fit Conv1D input shape (samples, timesteps, features)\n",
        "# We assume 20 features (18 MFCCs + 2 extra features: shift mean and RMS mean)\n",
        "X_train_reshaped = X_train.reshape(-1, 20, 1)\n",
        "X_test_reshaped = X_test.reshape(-1, 20, 1)\n"
      ],
      "metadata": {
        "id": "fcWS4IzVKtE3"
      },
      "execution_count": 50,
      "outputs": []
    },
    {
      "cell_type": "code",
      "source": [
        "from sklearn.model_selection import train_test_split\n",
        "\n",
        "# Split train data into training and validation sets\n",
        "X_train, X_val, y_train, y_val = train_test_split(X_train_reshaped, y_train, test_size=0.2, random_state=42)\n",
        "\n",
        "# Print shapes to verify the split\n",
        "print(f\"Training data shape: {X_train.shape}\")\n",
        "print(f\"Validation data shape: {X_val.shape}\")\n",
        "print(f\"Training labels shape: {y_train.shape}\")\n",
        "print(f\"Validation labels shape: {y_val.shape}\")\n"
      ],
      "metadata": {
        "colab": {
          "base_uri": "https://localhost:8080/"
        },
        "id": "2HIN18w6LEDF",
        "outputId": "e23b376c-6bf4-4142-b0bd-e89b4613d976"
      },
      "execution_count": 51,
      "outputs": [
        {
          "output_type": "stream",
          "name": "stdout",
          "text": [
            "Training data shape: (440, 20, 1)\n",
            "Validation data shape: (110, 20, 1)\n",
            "Training labels shape: (440, 5)\n",
            "Validation labels shape: (110, 5)\n"
          ]
        }
      ]
    },
    {
      "cell_type": "code",
      "source": [
        "# Define the 1D CNN model\n",
        "model = Sequential([\n",
        "    Conv1D(32, kernel_size=3, activation='relu', input_shape=(20, 1)),\n",
        "    MaxPooling1D(pool_size=2),\n",
        "    Conv1D(64, kernel_size=3, activation='relu'),\n",
        "    MaxPooling1D(pool_size=2),\n",
        "    Flatten(),\n",
        "    Dense(64, activation='relu'),\n",
        "    Dense(y_train.shape[1], activation='softmax')  # Output layer matching number of classes\n",
        "])\n",
        "\n",
        "# Compile the model\n",
        "model.compile(optimizer='adam', loss='categorical_crossentropy', metrics=['accuracy'])\n",
        "model.summary()"
      ],
      "metadata": {
        "colab": {
          "base_uri": "https://localhost:8080/"
        },
        "id": "JLsIrm1eKuud",
        "outputId": "be3a1c87-5f15-4808-d09b-547dad9319a8"
      },
      "execution_count": 52,
      "outputs": [
        {
          "output_type": "stream",
          "name": "stdout",
          "text": [
            "Model: \"sequential_10\"\n",
            "_________________________________________________________________\n",
            " Layer (type)                Output Shape              Param #   \n",
            "=================================================================\n",
            " conv1d_6 (Conv1D)           (None, 18, 32)            128       \n",
            "                                                                 \n",
            " max_pooling1d_6 (MaxPoolin  (None, 9, 32)             0         \n",
            " g1D)                                                            \n",
            "                                                                 \n",
            " conv1d_7 (Conv1D)           (None, 7, 64)             6208      \n",
            "                                                                 \n",
            " max_pooling1d_7 (MaxPoolin  (None, 3, 64)             0         \n",
            " g1D)                                                            \n",
            "                                                                 \n",
            " flatten_3 (Flatten)         (None, 192)               0         \n",
            "                                                                 \n",
            " dense_6 (Dense)             (None, 64)                12352     \n",
            "                                                                 \n",
            " dense_7 (Dense)             (None, 5)                 325       \n",
            "                                                                 \n",
            "=================================================================\n",
            "Total params: 19013 (74.27 KB)\n",
            "Trainable params: 19013 (74.27 KB)\n",
            "Non-trainable params: 0 (0.00 Byte)\n",
            "_________________________________________________________________\n"
          ]
        }
      ]
    },
    {
      "cell_type": "code",
      "source": [
        "from keras.models import Sequential\n",
        "from keras.layers import Conv1D, MaxPooling1D, Flatten, Dense, Dropout, BatchNormalization\n",
        "\n",
        "# Define the revised 1D CNN model\n",
        "model = Sequential([\n",
        "    Conv1D(32, kernel_size=3, activation='relu', input_shape=(20, 1)),\n",
        "    BatchNormalization(),\n",
        "    MaxPooling1D(pool_size=2),\n",
        "    Dropout(0.3),\n",
        "\n",
        "    Conv1D(64, kernel_size=3, activation='relu'),\n",
        "    BatchNormalization(),\n",
        "    MaxPooling1D(pool_size=2),\n",
        "    Dropout(0.3),\n",
        "\n",
        "    Flatten(),\n",
        "    Dense(128, activation='relu'),\n",
        "    BatchNormalization(),\n",
        "    Dropout(0.4),\n",
        "    Dense(y_train.shape[1], activation='softmax')  # Output layer\n",
        "])\n",
        "\n",
        "# Compile the model\n",
        "model.compile(optimizer='adam',\n",
        "              loss='categorical_crossentropy',\n",
        "              metrics=['accuracy'])\n",
        "\n",
        "# Summary\n",
        "model.summary()\n"
      ],
      "metadata": {
        "colab": {
          "base_uri": "https://localhost:8080/"
        },
        "id": "Vp_GPxlLOruO",
        "outputId": "ae58d39c-d268-47cc-eff0-efd0ec8e0931"
      },
      "execution_count": 60,
      "outputs": [
        {
          "output_type": "stream",
          "name": "stdout",
          "text": [
            "Model: \"sequential_12\"\n",
            "_________________________________________________________________\n",
            " Layer (type)                Output Shape              Param #   \n",
            "=================================================================\n",
            " conv1d_10 (Conv1D)          (None, 18, 32)            128       \n",
            "                                                                 \n",
            " batch_normalization_3 (Bat  (None, 18, 32)            128       \n",
            " chNormalization)                                                \n",
            "                                                                 \n",
            " max_pooling1d_10 (MaxPooli  (None, 9, 32)             0         \n",
            " ng1D)                                                           \n",
            "                                                                 \n",
            " dropout_3 (Dropout)         (None, 9, 32)             0         \n",
            "                                                                 \n",
            " conv1d_11 (Conv1D)          (None, 7, 64)             6208      \n",
            "                                                                 \n",
            " batch_normalization_4 (Bat  (None, 7, 64)             256       \n",
            " chNormalization)                                                \n",
            "                                                                 \n",
            " max_pooling1d_11 (MaxPooli  (None, 3, 64)             0         \n",
            " ng1D)                                                           \n",
            "                                                                 \n",
            " dropout_4 (Dropout)         (None, 3, 64)             0         \n",
            "                                                                 \n",
            " flatten_5 (Flatten)         (None, 192)               0         \n",
            "                                                                 \n",
            " dense_10 (Dense)            (None, 128)               24704     \n",
            "                                                                 \n",
            " batch_normalization_5 (Bat  (None, 128)               512       \n",
            " chNormalization)                                                \n",
            "                                                                 \n",
            " dropout_5 (Dropout)         (None, 128)               0         \n",
            "                                                                 \n",
            " dense_11 (Dense)            (None, 5)                 645       \n",
            "                                                                 \n",
            "=================================================================\n",
            "Total params: 32581 (127.27 KB)\n",
            "Trainable params: 32133 (125.52 KB)\n",
            "Non-trainable params: 448 (1.75 KB)\n",
            "_________________________________________________________________\n"
          ]
        }
      ]
    },
    {
      "cell_type": "code",
      "source": [
        "from tensorflow.keras.layers import Conv1D, MaxPooling1D, Flatten, Dense, Dropout\n",
        "\n",
        "model = Sequential([\n",
        "    Conv1D(64, kernel_size=3, activation='relu', input_shape=(20, 1)),\n",
        "    MaxPooling1D(pool_size=2),\n",
        "    Conv1D(128, kernel_size=3, activation='relu'),\n",
        "    MaxPooling1D(pool_size=2),\n",
        "    Flatten(),\n",
        "    Dense(128, activation='relu'),\n",
        "    Dropout(0.3),  # Prevent overfitting\n",
        "    Dense(5, activation='softmax')  # Assuming 5 output classes\n",
        "])\n",
        "\n",
        "# Compile the model\n",
        "model.compile(optimizer='adam',\n",
        "              loss='categorical_crossentropy',\n",
        "              metrics=['accuracy'])\n",
        "\n",
        "# Summary\n",
        "model.summary()\n",
        "\n"
      ],
      "metadata": {
        "colab": {
          "base_uri": "https://localhost:8080/"
        },
        "id": "FaC0Hmi5PTlA",
        "outputId": "954f7e6f-3c70-457d-b021-587bed391fca"
      },
      "execution_count": 84,
      "outputs": [
        {
          "output_type": "stream",
          "name": "stdout",
          "text": [
            "Model: \"sequential_19\"\n",
            "_________________________________________________________________\n",
            " Layer (type)                Output Shape              Param #   \n",
            "=================================================================\n",
            " conv1d_22 (Conv1D)          (None, 18, 64)            256       \n",
            "                                                                 \n",
            " max_pooling1d_22 (MaxPooli  (None, 9, 64)             0         \n",
            " ng1D)                                                           \n",
            "                                                                 \n",
            " conv1d_23 (Conv1D)          (None, 7, 128)            24704     \n",
            "                                                                 \n",
            " max_pooling1d_23 (MaxPooli  (None, 3, 128)            0         \n",
            " ng1D)                                                           \n",
            "                                                                 \n",
            " flatten_12 (Flatten)        (None, 384)               0         \n",
            "                                                                 \n",
            " dense_24 (Dense)            (None, 128)               49280     \n",
            "                                                                 \n",
            " dropout_10 (Dropout)        (None, 128)               0         \n",
            "                                                                 \n",
            " dense_25 (Dense)            (None, 5)                 645       \n",
            "                                                                 \n",
            "=================================================================\n",
            "Total params: 74885 (292.52 KB)\n",
            "Trainable params: 74885 (292.52 KB)\n",
            "Non-trainable params: 0 (0.00 Byte)\n",
            "_________________________________________________________________\n"
          ]
        }
      ]
    },
    {
      "cell_type": "code",
      "source": [
        "from tensorflow.keras.layers import Conv1D, MaxPooling1D, Flatten, Dense, Dropout\n",
        "from tensorflow.keras import regularizers\n",
        "from tensorflow.keras.models import Sequential\n",
        "\n",
        "model = Sequential([\n",
        "    Conv1D(64, kernel_size=3, activation='relu', input_shape=(20, 1),\n",
        "           kernel_regularizer=regularizers.l2(0.01)),  # L2 regularization on Conv1D layer\n",
        "    MaxPooling1D(pool_size=2),\n",
        "\n",
        "    Conv1D(128, kernel_size=3, activation='relu',\n",
        "           kernel_regularizer=regularizers.l2(0.01)),  # L2 regularization on Conv1D layer\n",
        "    MaxPooling1D(pool_size=2),\n",
        "    Flatten(),\n",
        "    Dense(128, activation='relu',\n",
        "          kernel_regularizer=regularizers.l2(0.01)),  # L2 regularization on Dense layer\n",
        "    Dropout(0.3),  # Prevent overfitting\n",
        "    Dense(5, activation='softmax')  # Assuming 5 output classes\n",
        "])\n",
        "\n",
        "# Compile the model\n",
        "model.compile(optimizer='adam',\n",
        "              loss='categorical_crossentropy',\n",
        "              metrics=['accuracy'])\n",
        "\n",
        "# Summary\n",
        "model.summary()\n"
      ],
      "metadata": {
        "colab": {
          "base_uri": "https://localhost:8080/"
        },
        "id": "SHSBS0EOQTNj",
        "outputId": "196e94a1-c69e-49a1-c133-400f59c5e378"
      },
      "execution_count": 141,
      "outputs": [
        {
          "output_type": "stream",
          "name": "stdout",
          "text": [
            "Model: \"sequential_34\"\n",
            "_________________________________________________________________\n",
            " Layer (type)                Output Shape              Param #   \n",
            "=================================================================\n",
            " conv1d_52 (Conv1D)          (None, 18, 64)            256       \n",
            "                                                                 \n",
            " max_pooling1d_52 (MaxPooli  (None, 9, 64)             0         \n",
            " ng1D)                                                           \n",
            "                                                                 \n",
            " conv1d_53 (Conv1D)          (None, 7, 128)            24704     \n",
            "                                                                 \n",
            " max_pooling1d_53 (MaxPooli  (None, 3, 128)            0         \n",
            " ng1D)                                                           \n",
            "                                                                 \n",
            " flatten_27 (Flatten)        (None, 384)               0         \n",
            "                                                                 \n",
            " dense_54 (Dense)            (None, 128)               49280     \n",
            "                                                                 \n",
            " dropout_26 (Dropout)        (None, 128)               0         \n",
            "                                                                 \n",
            " dense_55 (Dense)            (None, 5)                 645       \n",
            "                                                                 \n",
            "=================================================================\n",
            "Total params: 74885 (292.52 KB)\n",
            "Trainable params: 74885 (292.52 KB)\n",
            "Non-trainable params: 0 (0.00 Byte)\n",
            "_________________________________________________________________\n"
          ]
        }
      ]
    },
    {
      "cell_type": "code",
      "source": [
        "from tensorflow.keras.callbacks import LearningRateScheduler\n",
        "from tensorflow.keras.optimizers import Adam\n",
        "import numpy as np\n",
        "\n",
        "# Define the learning rate schedule function\n",
        "def lr_schedule(epoch):\n",
        "    initial_lr = 0.001  # Set your initial learning rate here\n",
        "    drop_factor = 0.5\n",
        "       # Factor to decrease learning rate\n",
        "    drop_every = 10     # Drop every 10 epochs\n",
        "    lr = initial_lr * (drop_factor ** (epoch // drop_every))\n",
        "    return lr\n",
        "\n",
        "# Create the learning rate scheduler callback\n",
        "lr_scheduler = LearningRateScheduler(lr_schedule)"
      ],
      "metadata": {
        "id": "94rFgyeIRh0L"
      },
      "execution_count": 142,
      "outputs": []
    },
    {
      "cell_type": "code",
      "source": [
        "history = model.fit(\n",
        "    X_train, y_train,\n",
        "    epochs=50,\n",
        "    batch_size=8,\n",
        "    validation_data=(X_val, y_val),\n",
        "    class_weight=class_weights,\n",
        "    callbacks=[lr_scheduler]  # Add the scheduler to the callbacks list\n",
        ")"
      ],
      "metadata": {
        "colab": {
          "base_uri": "https://localhost:8080/"
        },
        "id": "I5KJLvIRKxeH",
        "outputId": "2ccdd947-982b-4efd-fab9-0d2c13bbc25b"
      },
      "execution_count": 143,
      "outputs": [
        {
          "output_type": "stream",
          "name": "stdout",
          "text": [
            "Epoch 1/50\n",
            "55/55 [==============================] - 1s 6ms/step - loss: 4.8359 - accuracy: 0.2705 - val_loss: 3.4289 - val_accuracy: 0.3000 - lr: 0.0010\n",
            "Epoch 2/50\n",
            "55/55 [==============================] - 0s 3ms/step - loss: 3.3165 - accuracy: 0.3705 - val_loss: 3.0914 - val_accuracy: 0.4182 - lr: 0.0010\n",
            "Epoch 3/50\n",
            "55/55 [==============================] - 0s 3ms/step - loss: 2.9742 - accuracy: 0.4477 - val_loss: 2.8600 - val_accuracy: 0.4273 - lr: 0.0010\n",
            "Epoch 4/50\n",
            "55/55 [==============================] - 0s 3ms/step - loss: 2.7298 - accuracy: 0.4705 - val_loss: 2.8563 - val_accuracy: 0.3182 - lr: 0.0010\n",
            "Epoch 5/50\n",
            "55/55 [==============================] - 0s 3ms/step - loss: 2.5963 - accuracy: 0.4500 - val_loss: 2.5738 - val_accuracy: 0.4273 - lr: 0.0010\n",
            "Epoch 6/50\n",
            "55/55 [==============================] - 0s 3ms/step - loss: 2.4618 - accuracy: 0.4864 - val_loss: 2.6294 - val_accuracy: 0.2727 - lr: 0.0010\n",
            "Epoch 7/50\n",
            "55/55 [==============================] - 0s 3ms/step - loss: 2.3146 - accuracy: 0.4795 - val_loss: 2.4223 - val_accuracy: 0.3909 - lr: 0.0010\n",
            "Epoch 8/50\n",
            "55/55 [==============================] - 0s 3ms/step - loss: 2.2048 - accuracy: 0.5182 - val_loss: 2.3399 - val_accuracy: 0.5000 - lr: 0.0010\n",
            "Epoch 9/50\n",
            "55/55 [==============================] - 0s 3ms/step - loss: 2.0356 - accuracy: 0.6000 - val_loss: 2.1639 - val_accuracy: 0.4636 - lr: 0.0010\n",
            "Epoch 10/50\n",
            "55/55 [==============================] - 0s 3ms/step - loss: 1.9908 - accuracy: 0.5386 - val_loss: 2.1324 - val_accuracy: 0.4818 - lr: 0.0010\n",
            "Epoch 11/50\n",
            "55/55 [==============================] - 0s 3ms/step - loss: 1.8890 - accuracy: 0.5659 - val_loss: 1.9997 - val_accuracy: 0.4818 - lr: 5.0000e-04\n",
            "Epoch 12/50\n",
            "55/55 [==============================] - 0s 3ms/step - loss: 1.7845 - accuracy: 0.6364 - val_loss: 2.0559 - val_accuracy: 0.4545 - lr: 5.0000e-04\n",
            "Epoch 13/50\n",
            "55/55 [==============================] - 0s 3ms/step - loss: 1.7468 - accuracy: 0.6182 - val_loss: 2.0021 - val_accuracy: 0.4455 - lr: 5.0000e-04\n",
            "Epoch 14/50\n",
            "55/55 [==============================] - 0s 3ms/step - loss: 1.7046 - accuracy: 0.6727 - val_loss: 1.9887 - val_accuracy: 0.4545 - lr: 5.0000e-04\n",
            "Epoch 15/50\n",
            "55/55 [==============================] - 0s 3ms/step - loss: 1.6664 - accuracy: 0.6159 - val_loss: 1.8698 - val_accuracy: 0.5727 - lr: 5.0000e-04\n",
            "Epoch 16/50\n",
            "55/55 [==============================] - 0s 3ms/step - loss: 1.5949 - accuracy: 0.6818 - val_loss: 1.8824 - val_accuracy: 0.5273 - lr: 5.0000e-04\n",
            "Epoch 17/50\n",
            "55/55 [==============================] - 0s 3ms/step - loss: 1.5816 - accuracy: 0.6545 - val_loss: 1.9121 - val_accuracy: 0.5364 - lr: 5.0000e-04\n",
            "Epoch 18/50\n",
            "55/55 [==============================] - 0s 3ms/step - loss: 1.5323 - accuracy: 0.6659 - val_loss: 1.8011 - val_accuracy: 0.5455 - lr: 5.0000e-04\n",
            "Epoch 19/50\n",
            "55/55 [==============================] - 0s 3ms/step - loss: 1.4830 - accuracy: 0.6909 - val_loss: 1.8258 - val_accuracy: 0.4909 - lr: 5.0000e-04\n",
            "Epoch 20/50\n",
            "55/55 [==============================] - 0s 3ms/step - loss: 1.4662 - accuracy: 0.6909 - val_loss: 1.7374 - val_accuracy: 0.5636 - lr: 5.0000e-04\n",
            "Epoch 21/50\n",
            "55/55 [==============================] - 0s 3ms/step - loss: 1.4005 - accuracy: 0.7205 - val_loss: 1.6799 - val_accuracy: 0.5455 - lr: 2.5000e-04\n",
            "Epoch 22/50\n",
            "55/55 [==============================] - 0s 3ms/step - loss: 1.3655 - accuracy: 0.7341 - val_loss: 1.6698 - val_accuracy: 0.5818 - lr: 2.5000e-04\n",
            "Epoch 23/50\n",
            "55/55 [==============================] - 0s 3ms/step - loss: 1.3402 - accuracy: 0.7591 - val_loss: 1.7077 - val_accuracy: 0.5545 - lr: 2.5000e-04\n",
            "Epoch 24/50\n",
            "55/55 [==============================] - 0s 3ms/step - loss: 1.3400 - accuracy: 0.7455 - val_loss: 1.6554 - val_accuracy: 0.6364 - lr: 2.5000e-04\n",
            "Epoch 25/50\n",
            "55/55 [==============================] - 0s 3ms/step - loss: 1.2939 - accuracy: 0.7568 - val_loss: 1.6541 - val_accuracy: 0.5818 - lr: 2.5000e-04\n",
            "Epoch 26/50\n",
            "55/55 [==============================] - 0s 3ms/step - loss: 1.2932 - accuracy: 0.7636 - val_loss: 1.6578 - val_accuracy: 0.5818 - lr: 2.5000e-04\n",
            "Epoch 27/50\n",
            "55/55 [==============================] - 0s 3ms/step - loss: 1.2893 - accuracy: 0.7591 - val_loss: 1.6138 - val_accuracy: 0.6273 - lr: 2.5000e-04\n",
            "Epoch 28/50\n",
            "55/55 [==============================] - 0s 3ms/step - loss: 1.2019 - accuracy: 0.8136 - val_loss: 1.5564 - val_accuracy: 0.5909 - lr: 2.5000e-04\n",
            "Epoch 29/50\n",
            "55/55 [==============================] - 0s 3ms/step - loss: 1.2500 - accuracy: 0.7750 - val_loss: 1.6285 - val_accuracy: 0.6000 - lr: 2.5000e-04\n",
            "Epoch 30/50\n",
            "55/55 [==============================] - 0s 3ms/step - loss: 1.1904 - accuracy: 0.7932 - val_loss: 1.5865 - val_accuracy: 0.6091 - lr: 2.5000e-04\n",
            "Epoch 31/50\n",
            "55/55 [==============================] - 0s 3ms/step - loss: 1.1776 - accuracy: 0.7977 - val_loss: 1.5790 - val_accuracy: 0.6273 - lr: 1.2500e-04\n",
            "Epoch 32/50\n",
            "55/55 [==============================] - 0s 3ms/step - loss: 1.1757 - accuracy: 0.7955 - val_loss: 1.5624 - val_accuracy: 0.6273 - lr: 1.2500e-04\n",
            "Epoch 33/50\n",
            "55/55 [==============================] - 0s 3ms/step - loss: 1.1320 - accuracy: 0.7886 - val_loss: 1.5470 - val_accuracy: 0.6182 - lr: 1.2500e-04\n",
            "Epoch 34/50\n",
            "55/55 [==============================] - 0s 3ms/step - loss: 1.1068 - accuracy: 0.8364 - val_loss: 1.5562 - val_accuracy: 0.6455 - lr: 1.2500e-04\n",
            "Epoch 35/50\n",
            "55/55 [==============================] - 0s 3ms/step - loss: 1.1168 - accuracy: 0.8159 - val_loss: 1.5663 - val_accuracy: 0.6182 - lr: 1.2500e-04\n",
            "Epoch 36/50\n",
            "55/55 [==============================] - 0s 3ms/step - loss: 1.1056 - accuracy: 0.8159 - val_loss: 1.5410 - val_accuracy: 0.6273 - lr: 1.2500e-04\n",
            "Epoch 37/50\n",
            "55/55 [==============================] - 0s 3ms/step - loss: 1.0760 - accuracy: 0.8409 - val_loss: 1.5745 - val_accuracy: 0.6091 - lr: 1.2500e-04\n",
            "Epoch 38/50\n",
            "55/55 [==============================] - 0s 3ms/step - loss: 1.1092 - accuracy: 0.7977 - val_loss: 1.5486 - val_accuracy: 0.6364 - lr: 1.2500e-04\n",
            "Epoch 39/50\n",
            "55/55 [==============================] - 0s 3ms/step - loss: 1.0953 - accuracy: 0.8091 - val_loss: 1.5374 - val_accuracy: 0.6455 - lr: 1.2500e-04\n",
            "Epoch 40/50\n",
            "55/55 [==============================] - 0s 3ms/step - loss: 1.0582 - accuracy: 0.8205 - val_loss: 1.5287 - val_accuracy: 0.6091 - lr: 1.2500e-04\n",
            "Epoch 41/50\n",
            "55/55 [==============================] - 0s 3ms/step - loss: 1.0527 - accuracy: 0.8523 - val_loss: 1.5343 - val_accuracy: 0.6455 - lr: 6.2500e-05\n",
            "Epoch 42/50\n",
            "55/55 [==============================] - 0s 3ms/step - loss: 1.0691 - accuracy: 0.8205 - val_loss: 1.5114 - val_accuracy: 0.6455 - lr: 6.2500e-05\n",
            "Epoch 43/50\n",
            "55/55 [==============================] - 0s 3ms/step - loss: 1.0322 - accuracy: 0.8432 - val_loss: 1.5245 - val_accuracy: 0.6364 - lr: 6.2500e-05\n",
            "Epoch 44/50\n",
            "55/55 [==============================] - 0s 3ms/step - loss: 1.0465 - accuracy: 0.8386 - val_loss: 1.5176 - val_accuracy: 0.6636 - lr: 6.2500e-05\n",
            "Epoch 45/50\n",
            "55/55 [==============================] - 0s 3ms/step - loss: 1.0304 - accuracy: 0.8273 - val_loss: 1.5218 - val_accuracy: 0.6636 - lr: 6.2500e-05\n",
            "Epoch 46/50\n",
            "55/55 [==============================] - 0s 3ms/step - loss: 1.0379 - accuracy: 0.8295 - val_loss: 1.5194 - val_accuracy: 0.6545 - lr: 6.2500e-05\n",
            "Epoch 47/50\n",
            "55/55 [==============================] - 0s 3ms/step - loss: 1.0465 - accuracy: 0.8273 - val_loss: 1.5092 - val_accuracy: 0.6636 - lr: 6.2500e-05\n",
            "Epoch 48/50\n",
            "55/55 [==============================] - 0s 3ms/step - loss: 1.0254 - accuracy: 0.8295 - val_loss: 1.5187 - val_accuracy: 0.6545 - lr: 6.2500e-05\n",
            "Epoch 49/50\n",
            "55/55 [==============================] - 0s 3ms/step - loss: 1.0424 - accuracy: 0.8227 - val_loss: 1.5059 - val_accuracy: 0.6364 - lr: 6.2500e-05\n",
            "Epoch 50/50\n",
            "55/55 [==============================] - 0s 3ms/step - loss: 1.0045 - accuracy: 0.8545 - val_loss: 1.5145 - val_accuracy: 0.6545 - lr: 6.2500e-05\n"
          ]
        }
      ]
    },
    {
      "cell_type": "code",
      "source": [
        "# Evaluate on the test set after training\n",
        "loss, accuracy = model.evaluate(X_test_reshaped, y_test, verbose=0)\n",
        "print(f\"Test Accuracy: {accuracy:.2f}\")"
      ],
      "metadata": {
        "colab": {
          "base_uri": "https://localhost:8080/"
        },
        "id": "GMe_RqGqLTG_",
        "outputId": "f7c834d5-50c4-4b0d-c33c-4bbb5ee16ff5"
      },
      "execution_count": 144,
      "outputs": [
        {
          "output_type": "stream",
          "name": "stdout",
          "text": [
            "Test Accuracy: 0.70\n"
          ]
        }
      ]
    },
    {
      "cell_type": "code",
      "source": [
        "# Plot accuracy\n",
        "plt.plot(history.history['accuracy'], label='Training Accuracy')\n",
        "plt.plot(history.history['val_accuracy'], label='Validation Accuracy')\n",
        "plt.title('Model Accuracy')\n",
        "plt.xlabel('Epochs')\n",
        "plt.ylabel('Accuracy')\n",
        "plt.legend()\n",
        "plt.show()\n",
        "\n",
        "# Plot loss\n",
        "plt.plot(history.history['loss'], label='Training Loss')\n",
        "plt.plot(history.history['val_loss'], label='Validation Loss')\n",
        "plt.title('Model Loss')\n",
        "plt.xlabel('Epochs')\n",
        "plt.ylabel('Loss')\n",
        "plt.legend()\n",
        "plt.show()\n"
      ],
      "metadata": {
        "colab": {
          "base_uri": "https://localhost:8080/",
          "height": 927
        },
        "id": "7usY6JMONF0I",
        "outputId": "0c05499f-db01-4fde-89e3-4faaa3ad8424"
      },
      "execution_count": 145,
      "outputs": [
        {
          "output_type": "display_data",
          "data": {
            "text/plain": [
              "<Figure size 640x480 with 1 Axes>"
            ],
            "image/png": "[encoded data removed]"
          },
          "metadata": {}
        },
        {
          "output_type": "display_data",
          "data": {
            "text/plain": [
              "<Figure size 640x480 with 1 Axes>"
            ],
            "image/png": "[encoded data removed]"
          },
          "metadata": {}
        }
      ]
    },
    {
      "cell_type": "code",
      "source": [
        "# Save the entire model (architecture + weights)\n",
        "model.save('my_model.h5')  # Save as H5 file (or use `.tf` for TensorFlow SavedModel format)\n"
      ],
      "metadata": {
        "colab": {
          "base_uri": "https://localhost:8080/"
        },
        "id": "mqyVK5MZPMyN",
        "outputId": "cb926d9a-201a-4380-9436-58625594a61e"
      },
      "execution_count": 146,
      "outputs": [
        {
          "output_type": "stream",
          "name": "stderr",
          "text": [
            "/usr/local/lib/python3.10/dist-packages/keras/src/engine/training.py:3103: UserWarning: You are saving your model as an HDF5 file via `model.save()`. This file format is considered legacy. We recommend using instead the native Keras format, e.g. `model.save('my_model.keras')`.\n",
            "  saving_api.save_model(\n"
          ]
        }
      ]
    },
    {
      "cell_type": "code",
      "source": [
        "import pickle\n",
        "# Save the model weights and architecture with pickle\n",
        "def save_model(model, filename):\n",
        "    with open(filename, 'wb') as f:\n",
        "        pickle.dump(model, f)\n",
        "\n",
        "# Save the model\n",
        "save_model(model, 'my_model.pkl')\n"
      ],
      "metadata": {
        "id": "u_0EWUzETNym"
      },
      "execution_count": 148,
      "outputs": []
    },
    {
      "cell_type": "code",
      "source": [],
      "metadata": {
        "id": "xfznXMsFUPzZ"
      },
      "execution_count": null,
      "outputs": []
    }
  ]
}